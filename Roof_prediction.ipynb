{
 "cells": [
  {
   "cell_type": "markdown",
   "id": "fca98b6d",
   "metadata": {
    "slideshow": {
     "slide_type": "slide"
    }
   },
   "source": [
    "## Task and objectives"
   ]
  },
  {
   "cell_type": "markdown",
   "id": "a9506350",
   "metadata": {
    "slideshow": {
     "slide_type": "fragment"
    }
   },
   "source": [
    "### Task \n",
    "\n",
    "This task is about training a neural network on 30 house satellite images with 25 of them associated to label images indicating the roofs. "
   ]
  },
  {
   "cell_type": "markdown",
   "id": "8208c6b2",
   "metadata": {
    "slideshow": {
     "slide_type": "fragment"
    }
   },
   "source": [
    "### Goal\n",
    "\n",
    "The goal is to train a neural network model on 25 images and show predictions on the remaining 5 images."
   ]
  },
  {
   "cell_type": "markdown",
   "id": "b7422814",
   "metadata": {
    "slideshow": {
     "slide_type": "fragment"
    }
   },
   "source": [
    "### Method\n",
    "\n",
    "The task at hand can be identified as an image segmentation problem. Therefore a U-net architecture (see [here](https://link.springer.com/content/pdf/10.1007/978-3-319-24574-4_28.pdf) for more info on the U_net model) was used in order to train the model. The motivation to this choice of architecture is that it was designed to give good results when only a small number of training images are available. Moreover, is computationally fast.\n",
    "Below are the steps taken to solve the given problem."
   ]
  },
  {
   "cell_type": "code",
   "execution_count": 1,
   "id": "3f574bed",
   "metadata": {
    "slideshow": {
     "slide_type": "skip"
    }
   },
   "outputs": [
    {
     "name": "stdout",
     "output_type": "stream",
     "text": [
      "Requirement already satisfied: opencv-python in /home/jeanne/.pyenv/versions/3.8.12/envs/lewagon/lib/python3.8/site-packages (4.6.0.66)\n",
      "Requirement already satisfied: numpy>=1.14.5 in /home/jeanne/.pyenv/versions/3.8.12/envs/lewagon/lib/python3.8/site-packages (from opencv-python) (1.18.5)\n"
     ]
    }
   ],
   "source": [
    "!pip install opencv-python           ### installing opencv for image visualization\n"
   ]
  },
  {
   "cell_type": "markdown",
   "id": "3e2b4d99",
   "metadata": {
    "slideshow": {
     "slide_type": "slide"
    }
   },
   "source": [
    "### Important libraries"
   ]
  },
  {
   "cell_type": "code",
   "execution_count": 21,
   "id": "292ebb2a",
   "metadata": {
    "scrolled": true,
    "slideshow": {
     "slide_type": "fragment"
    }
   },
   "outputs": [],
   "source": [
    "# Dealing with directories(folders)\n",
    "\n",
    "import os\n",
    "import glob\n",
    "\n",
    "# Scientific computing and dealing with arrays\n",
    "import numpy as np\n",
    "import random\n",
    "\n",
    "# Data visualization\n",
    "from matplotlib import pyplot as plt\n",
    "import cv2\n",
    "\n",
    "# Data preprocessing\n",
    "from sklearn.model_selection import train_test_split\n",
    "\n",
    "# Dealing with convolutional neural network\n",
    "from keras.models import Model\n",
    "from tensorflow.keras.utils import normalize\n",
    "from keras.callbacks import EarlyStopping, ModelCheckpoint\n",
    "from keras.layers import Input, Conv2D, MaxPooling2D, UpSampling2D, concatenate, Conv2DTranspose, BatchNormalization, Dropout, Lambda\n",
    "\n",
    "import warnings\n",
    "warnings.filterwarnings(\"ignore\")"
   ]
  },
  {
   "cell_type": "markdown",
   "id": "e41f6ce5",
   "metadata": {
    "slideshow": {
     "slide_type": "slide"
    }
   },
   "source": [
    "### Importing and splitting data into train and test sets"
   ]
  },
  {
   "cell_type": "code",
   "execution_count": 3,
   "id": "4f0c4a60",
   "metadata": {
    "slideshow": {
     "slide_type": "fragment"
    }
   },
   "outputs": [],
   "source": [
    "# The next three functions are to map the satellites house images to their corresponding labels\n",
    "\n",
    "# read file names from a dir into a list\n",
    "def ReadDir(dir):\n",
    "    filelist = []    \n",
    "    for filename in glob.glob(os.path.join(dir, '*.png')):\n",
    "        filelist.append(filename)       \n",
    "    return filelist\n"
   ]
  },
  {
   "cell_type": "code",
   "execution_count": 4,
   "id": "3b76f3f7",
   "metadata": {
    "slideshow": {
     "slide_type": "notes"
    }
   },
   "outputs": [
    {
     "data": {
      "text/plain": [
       "['Satellites/satellites/337.png',\n",
       " 'Satellites/satellites/317.png',\n",
       " 'Satellites/satellites/301.png',\n",
       " 'Satellites/satellites/343.png',\n",
       " 'Satellites/satellites/417.png',\n",
       " 'Satellites/satellites/121.png',\n",
       " 'Satellites/satellites/539.png',\n",
       " 'Satellites/satellites/320.png',\n",
       " 'Satellites/satellites/314.png',\n",
       " 'Satellites/satellites/241.png',\n",
       " 'Satellites/satellites/284.png',\n",
       " 'Satellites/satellites/537.png',\n",
       " 'Satellites/satellites/379.png',\n",
       " 'Satellites/satellites/278.png',\n",
       " 'Satellites/satellites/287.png',\n",
       " 'Satellites/satellites/272.png',\n",
       " 'Satellites/satellites/328.png',\n",
       " 'Satellites/satellites/303.png',\n",
       " 'Satellites/satellites/274.png',\n",
       " 'Satellites/satellites/551.png',\n",
       " 'Satellites/satellites/308.png',\n",
       " 'Satellites/satellites/324.png',\n",
       " 'Satellites/satellites/535.png',\n",
       " 'Satellites/satellites/270.png',\n",
       " 'Satellites/satellites/315.png',\n",
       " 'Satellites/satellites/300.png',\n",
       " 'Satellites/satellites/381.png',\n",
       " 'Satellites/satellites/345.png',\n",
       " 'Satellites/satellites/553.png',\n",
       " 'Satellites/satellites/532.png']"
      ]
     },
     "execution_count": 4,
     "metadata": {},
     "output_type": "execute_result"
    }
   ],
   "source": [
    "ReadDir(\"Satellites/satellites\")"
   ]
  },
  {
   "cell_type": "code",
   "execution_count": 5,
   "id": "978662bf",
   "metadata": {
    "slideshow": {
     "slide_type": "-"
    }
   },
   "outputs": [],
   "source": [
    "# Get the file names\n",
    "def GetFileName(filedir):\n",
    "    return filedir[-7:]"
   ]
  },
  {
   "cell_type": "code",
   "execution_count": 6,
   "id": "4e341853",
   "metadata": {
    "slideshow": {
     "slide_type": "-"
    }
   },
   "outputs": [],
   "source": [
    "# Compare files in two directories dir1 and dir2 with the same file name, to see if they are identical\n",
    "\n",
    "def CmpDir(dir1, dir2):\n",
    "    \n",
    "    list_1 =[]\n",
    "    list_2 =[]\n",
    "\n",
    "    [list1, list2] = map(ReadDir, [dir1, dir2])\n",
    "    list1.sort()\n",
    "    list2.sort()\n",
    "    l1 = len(list1)\n",
    "    l2 = len(list2)\n",
    "    if l1 < l2:\n",
    "        for filedir2 in list2:\n",
    "            filename = GetFileName(filedir2)\n",
    "            filedir1 = dir1 + filename\n",
    "            if filedir1 in list1:\n",
    "                list_1.append(filedir2)\n",
    "            else:\n",
    "                list_2.append(filedir2)\n",
    "    else:\n",
    "        pass\n",
    "    return[list_1, list_2]\n",
    "\n"
   ]
  },
  {
   "cell_type": "markdown",
   "id": "6f5b6772",
   "metadata": {
    "slideshow": {
     "slide_type": "subslide"
    }
   },
   "source": [
    "#### Splitting "
   ]
  },
  {
   "cell_type": "code",
   "execution_count": 7,
   "id": "ccf75d79",
   "metadata": {
    "slideshow": {
     "slide_type": "fragment"
    }
   },
   "outputs": [],
   "source": [
    "# Here we perform the train test set splitting\n",
    "X_train_dir, X_test_dir = CmpDir(\"Labels/labels/\", \"Satellites/satellites/\")\n",
    "#len(X_test_dir)"
   ]
  },
  {
   "cell_type": "code",
   "execution_count": 8,
   "id": "ccbbe405",
   "metadata": {
    "slideshow": {
     "slide_type": "fragment"
    }
   },
   "outputs": [],
   "source": [
    "def train_test_set(Dir1, Dir2):\n",
    "    Sat = []\n",
    "    for directory_path in glob.glob(Dir1):\n",
    "        for img_path in Dir2:\n",
    "            img = cv2.imread(img_path,0)          # reading images as gray for analysis simplification\n",
    "            Sat.append(img)\n",
    "    return np.array(Sat)\n",
    "            \n",
    "        \n",
    "X_train = train_test_set(\"Satellites/satellites\", X_train_dir)\n",
    "X_test = train_test_set(\"Satellites/satellites\", X_test_dir)\n",
    "\n",
    "Lab = []\n",
    "for directory_path in glob.glob(\"Labels/labels\"):\n",
    "    for img_path in glob.glob(os.path.join(\"Labels/labels\", \"*.png\")):\n",
    "        img = cv2.imread(img_path,0)\n",
    "        Lab.append(img)\n",
    "        \n",
    "y_train = np.array(Lab)\n",
    "#len(y_train)"
   ]
  },
  {
   "cell_type": "markdown",
   "id": "55845739",
   "metadata": {
    "slideshow": {
     "slide_type": "subslide"
    }
   },
   "source": [
    "#### Getting the validation set"
   ]
  },
  {
   "cell_type": "code",
   "execution_count": 9,
   "id": "29f43d12",
   "metadata": {
    "slideshow": {
     "slide_type": "fragment"
    }
   },
   "outputs": [],
   "source": [
    "# The above defined train set is split again to obtain the validation set\n",
    "\n",
    "X_train, X_val, y_train, y_val = train_test_split(X_train, y_train, test_size =.1, train_size =.9)"
   ]
  },
  {
   "cell_type": "markdown",
   "id": "c2e2adcb",
   "metadata": {
    "slideshow": {
     "slide_type": "slide"
    }
   },
   "source": [
    "### Encoding the labels and dimension expansion"
   ]
  },
  {
   "cell_type": "code",
   "execution_count": 10,
   "id": "49a254ba",
   "metadata": {
    "slideshow": {
     "slide_type": "fragment"
    }
   },
   "outputs": [],
   "source": [
    "# From the command below one can see that the images are not true binary images. Therefore, need to be encoded\n",
    "\n",
    "#np.unique(y_train)   \n"
   ]
  },
  {
   "cell_type": "code",
   "execution_count": 11,
   "id": "1099a7b6",
   "metadata": {
    "slideshow": {
     "slide_type": "fragment"
    }
   },
   "outputs": [
    {
     "data": {
      "text/plain": [
       "<matplotlib.image.AxesImage at 0x7fc0010676a0>"
      ]
     },
     "execution_count": 11,
     "metadata": {},
     "output_type": "execute_result"
    },
    {
     "data": {
      "image/png": "[encoded data removed]",
      "text/plain": [
       "<Figure size 432x288 with 1 Axes>"
      ]
     },
     "metadata": {
      "needs_background": "light"
     },
     "output_type": "display_data"
    }
   ],
   "source": [
    "#To binarize the image, a simple thresholding for values above 0 is done. \n",
    "# Convert all values above 0 to 1, to assign a pixel value of 1 for the white class.\n",
    "\n",
    "y_train = np.where(y_train>0, 1, y_train)\n",
    "plt.imshow(y_train[0], cmap='gray')"
   ]
  },
  {
   "cell_type": "code",
   "execution_count": 12,
   "id": "14748ac8",
   "metadata": {
    "slideshow": {
     "slide_type": "fragment"
    }
   },
   "outputs": [
    {
     "data": {
      "text/plain": [
       "(22, 256, 256, 1)"
      ]
     },
     "execution_count": 12,
     "metadata": {},
     "output_type": "execute_result"
    }
   ],
   "source": [
    "# Expanding the dimension to get the appropriate formation for the model training\n",
    "\n",
    "X_train = np.expand_dims(X_train, axis =3)\n",
    "X_train = normalize(X_train, axis =1)                       # normalizing the data\n",
    "\n",
    "X_test = np.expand_dims(X_test, axis =3)\n",
    "X_test = normalize(X_test, axis =1)\n",
    "y_train = np.expand_dims(y_train, axis =3)\n",
    "\n",
    "X_val = np.expand_dims(X_val, axis =3)\n",
    "X_val = normalize(X_val, axis =1)\n",
    "\n",
    "y_val = np.expand_dims(y_val, axis =3)\n",
    "X_train.shape\n"
   ]
  },
  {
   "cell_type": "markdown",
   "id": "ea3dd6f1",
   "metadata": {
    "slideshow": {
     "slide_type": "slide"
    }
   },
   "source": [
    "###  Model (U-net)\n",
    "\n",
    "The model below was inspired by [Dr. Sreenivas Bhattiprolu](https://github.com/bnsreenu/python_for_microscopists/blob/master/228_semantic_segmentation_of_aerial_imagery_using_unet/simple_multi_unet_model.py) which has been customized according to the task at hand.\n",
    "\n",
    "Since the segmentation in our case is within two classes black:0 and white:1, the sigmoid function has been used.\n"
   ]
  },
  {
   "cell_type": "code",
   "execution_count": 13,
   "id": "1e71aa95",
   "metadata": {
    "slideshow": {
     "slide_type": "fragment"
    }
   },
   "outputs": [],
   "source": [
    "def unet_model(IMG_HEIGHT=256, IMG_WIDTH=256, IMG_CHANNELS=1):\n",
    "#Build the model\n",
    "    inputs = Input((IMG_HEIGHT, IMG_WIDTH, IMG_CHANNELS))\n",
    "\n",
    "    s = Lambda(lambda x: x / 255) (inputs)\n",
    "\n",
    "    c1 = Conv2D(16, (3, 3), activation='elu', kernel_initializer='he_normal', padding='same') (s)\n",
    "    c1 = Dropout(0.1) (c1)\n",
    "    c1 = Conv2D(16, (3, 3), activation='elu', kernel_initializer='he_normal', padding='same') (c1)\n",
    "    p1 = MaxPooling2D((2, 2)) (c1)\n",
    "\n",
    "    c2 = Conv2D(32, (3, 3), activation='elu', kernel_initializer='he_normal', padding='same') (p1)\n",
    "    c2 = Dropout(0.1) (c2)\n",
    "    c2 = Conv2D(32, (3, 3), activation='elu', kernel_initializer='he_normal', padding='same') (c2)\n",
    "    p2 = MaxPooling2D((2, 2)) (c2)\n",
    "\n",
    "    c3 = Conv2D(20, (3, 3), activation='elu', kernel_initializer='he_normal', padding='same') (p2)\n",
    "    c3 = Dropout(0.2) (c3)\n",
    "    c3 = Conv2D(64, (3, 3), activation='elu', kernel_initializer='he_normal', padding='same') (c3)\n",
    "    p3 = MaxPooling2D((2, 2)) (c3)\n",
    "\n",
    "    c4 = Conv2D(256, (3, 3), activation='elu', kernel_initializer='he_normal', padding='same') (p3)\n",
    "    c4 = Dropout(0.2) (c4)\n",
    "    c4 = Conv2D(256, (3, 3), activation='elu', kernel_initializer='he_normal', padding='same') (c4)\n",
    "    p4 = MaxPooling2D(pool_size=(2, 2)) (c4)\n",
    "\n",
    "    c5 = Conv2D(256, (3, 3), activation='elu', kernel_initializer='he_normal', padding='same') (p4)\n",
    "    c5 = Dropout(0.3) (c5)\n",
    "    c5 = Conv2D(256, (3, 3), activation='elu', kernel_initializer='he_normal', padding='same') (c5)\n",
    "\n",
    "    u6 = Conv2DTranspose(128, (2, 2), strides=(2, 2), padding='same') (c5)\n",
    "    u6 = concatenate([u6, c4])\n",
    "    c6 = Conv2D(256, (3, 3), activation='elu', kernel_initializer='he_normal', padding='same') (u6)\n",
    "    c6 = Dropout(0.2) (c6)\n",
    "    c6 = Conv2D(256, (3, 3), activation='elu', kernel_initializer='he_normal', padding='same') (c6)\n",
    "\n",
    "    u7 = Conv2DTranspose(64, (2, 2), strides=(2, 2), padding='same') (c6)\n",
    "    u7 = concatenate([u7, c3])\n",
    "    c7 = Conv2D(64, (3, 3), activation='elu', kernel_initializer='he_normal', padding='same') (u7)\n",
    "    c7 = Dropout(0.2) (c7)\n",
    "    c7 = Conv2D(64, (3, 3), activation='elu', kernel_initializer='he_normal', padding='same') (c7)\n",
    "\n",
    "    u8 = Conv2DTranspose(32, (2, 2), strides=(2, 2), padding='same') (c7)\n",
    "    u8 = concatenate([u8, c2])\n",
    "    c8 = Conv2D(32, (3, 3), activation='elu', kernel_initializer='he_normal', padding='same') (u8)\n",
    "    c8 = Dropout(0.1) (c8)\n",
    "    c8 = Conv2D(32, (3, 3), activation='elu', kernel_initializer='he_normal', padding='same') (c8)\n",
    "\n",
    "    u9 = Conv2DTranspose(16, (2, 2), strides=(2, 2), padding='same') (c8)\n",
    "    u9 = concatenate([u9, c1], axis=3)\n",
    "    c9 = Conv2D(16, (3, 3), activation='elu', kernel_initializer='he_normal', padding='same') (u9)\n",
    "    c9 = Dropout(0.1) (c9)\n",
    "    c9 = Conv2D(16, (3, 3), activation='elu', kernel_initializer='he_normal', padding='same') (c9)\n",
    "\n",
    "    outputs = Conv2D(1, (1, 1), activation='sigmoid') (c9)\n",
    "\n",
    "    model = Model(inputs=[inputs], outputs=[outputs])\n",
    "       \n",
    "    return model"
   ]
  },
  {
   "cell_type": "code",
   "execution_count": 14,
   "id": "cc0d2303",
   "metadata": {
    "slideshow": {
     "slide_type": "fragment"
    }
   },
   "outputs": [],
   "source": [
    "def getmodel():\n",
    "    return unet_model(IMG_HEIGHT=256, IMG_WIDTH=256, IMG_CHANNELS=1)"
   ]
  },
  {
   "cell_type": "markdown",
   "id": "9e7405b6",
   "metadata": {
    "slideshow": {
     "slide_type": "slide"
    }
   },
   "source": [
    "### Model training"
   ]
  },
  {
   "cell_type": "code",
   "execution_count": 22,
   "id": "17665b1e",
   "metadata": {
    "slideshow": {
     "slide_type": "fragment"
    }
   },
   "outputs": [
    {
     "name": "stdout",
     "output_type": "stream",
     "text": [
      "Epoch 1/20\n",
      "3/3 [==============================] - ETA: 0s - loss: 0.6301 - accuracy: 0.6458\n",
      "Epoch 00001: val_loss improved from inf to 59.30366, saving model to model.h5\n",
      "3/3 [==============================] - 13s 3s/step - loss: 0.6301 - accuracy: 0.6458 - val_loss: 59.3037 - val_accuracy: 0.8452\n",
      "Epoch 2/20\n",
      "3/3 [==============================] - ETA: 0s - loss: 0.5267 - accuracy: 0.7855\n",
      "Epoch 00002: val_loss improved from 59.30366 to 39.71176, saving model to model.h5\n",
      "3/3 [==============================] - 11s 3s/step - loss: 0.5267 - accuracy: 0.7855 - val_loss: 39.7118 - val_accuracy: 0.8423\n",
      "Epoch 3/20\n",
      "3/3 [==============================] - ETA: 0s - loss: 0.5002 - accuracy: 0.8189\n",
      "Epoch 00003: val_loss did not improve from 39.71176\n",
      "3/3 [==============================] - 11s 3s/step - loss: 0.5002 - accuracy: 0.8189 - val_loss: 61.6229 - val_accuracy: 0.8459\n",
      "Epoch 4/20\n",
      "3/3 [==============================] - ETA: 0s - loss: 0.4787 - accuracy: 0.8317\n",
      "Epoch 00004: val_loss did not improve from 39.71176\n",
      "3/3 [==============================] - 11s 3s/step - loss: 0.4787 - accuracy: 0.8317 - val_loss: 56.6891 - val_accuracy: 0.8459\n",
      "Epoch 5/20\n",
      "3/3 [==============================] - ETA: 0s - loss: 0.4761 - accuracy: 0.8321\n",
      "Epoch 00005: val_loss did not improve from 39.71176\n",
      "3/3 [==============================] - 11s 3s/step - loss: 0.4761 - accuracy: 0.8321 - val_loss: 43.5131 - val_accuracy: 0.8459\n",
      "Epoch 6/20\n",
      "3/3 [==============================] - ETA: 0s - loss: 0.4679 - accuracy: 0.8322\n",
      "Epoch 00006: val_loss did not improve from 39.71176\n",
      "3/3 [==============================] - 11s 3s/step - loss: 0.4679 - accuracy: 0.8322 - val_loss: 43.5698 - val_accuracy: 0.8459\n",
      "Epoch 7/20\n",
      "3/3 [==============================] - ETA: 0s - loss: 0.4667 - accuracy: 0.8322\n",
      "Epoch 00007: val_loss improved from 39.71176 to 37.53646, saving model to model.h5\n",
      "3/3 [==============================] - 11s 3s/step - loss: 0.4667 - accuracy: 0.8322 - val_loss: 37.5365 - val_accuracy: 0.8433\n",
      "Epoch 8/20\n",
      "3/3 [==============================] - ETA: 0s - loss: 0.4701 - accuracy: 0.8322\n",
      "Epoch 00008: val_loss did not improve from 37.53646\n",
      "3/3 [==============================] - 11s 3s/step - loss: 0.4701 - accuracy: 0.8322 - val_loss: 39.3344 - val_accuracy: 0.8459\n",
      "Epoch 9/20\n",
      "3/3 [==============================] - ETA: 0s - loss: 0.4624 - accuracy: 0.8322\n",
      "Epoch 00009: val_loss did not improve from 37.53646\n",
      "3/3 [==============================] - 11s 3s/step - loss: 0.4624 - accuracy: 0.8322 - val_loss: 41.3644 - val_accuracy: 0.8415\n",
      "Epoch 10/20\n",
      "3/3 [==============================] - ETA: 0s - loss: 0.4645 - accuracy: 0.8322\n",
      "Epoch 00010: val_loss did not improve from 37.53646\n",
      "3/3 [==============================] - 11s 3s/step - loss: 0.4645 - accuracy: 0.8322 - val_loss: 44.1824 - val_accuracy: 0.8355\n",
      "Epoch 11/20\n",
      "3/3 [==============================] - ETA: 0s - loss: 0.4786 - accuracy: 0.8279\n",
      "Epoch 00011: val_loss did not improve from 37.53646\n",
      "3/3 [==============================] - 11s 3s/step - loss: 0.4786 - accuracy: 0.8279 - val_loss: 48.6985 - val_accuracy: 0.8459\n",
      "Epoch 12/20\n",
      "3/3 [==============================] - ETA: 0s - loss: 0.4656 - accuracy: 0.8322\n",
      "Epoch 00012: val_loss did not improve from 37.53646\n",
      "3/3 [==============================] - 11s 3s/step - loss: 0.4656 - accuracy: 0.8322 - val_loss: 61.5527 - val_accuracy: 0.8459\n",
      "Epoch 00012: early stopping\n"
     ]
    }
   ],
   "source": [
    "model = getmodel()\n",
    "model.compile(optimizer='adam', loss='binary_crossentropy', metrics=['accuracy'])\n",
    "\n",
    "\n",
    "filepath = \"model.h5\"\n",
    "\n",
    "earlystopper = EarlyStopping(patience=5, verbose=1)\n",
    "\n",
    "checkpoint = ModelCheckpoint(filepath, monitor='val_loss', verbose=1, \n",
    "                             save_best_only=True, mode='min')\n",
    "\n",
    "callbacks_list = [earlystopper, checkpoint]\n",
    "\n",
    "history = model.fit(X_train, y_train, validation_data=(X_val,y_val), batch_size=10, epochs=20, \n",
    "                    callbacks=callbacks_list)\n",
    "#import warnings\n",
    "#warnings.filterwarnings(\"ignore\")"
   ]
  },
  {
   "cell_type": "markdown",
   "id": "414bf024",
   "metadata": {
    "slideshow": {
     "slide_type": "slide"
    }
   },
   "source": [
    "### Results"
   ]
  },
  {
   "cell_type": "code",
   "execution_count": 23,
   "id": "a9ef3b9f",
   "metadata": {
    "slideshow": {
     "slide_type": "fragment"
    }
   },
   "outputs": [
    {
     "data": {
      "image/png": "[encoded data removed]",
      "text/plain": [
       "<Figure size 432x288 with 1 Axes>"
      ]
     },
     "metadata": {
      "needs_background": "light"
     },
     "output_type": "display_data"
    }
   ],
   "source": [
    "# plotting the training and validation accuracy, and loss at each epochs \n",
    "\n",
    "loss = history.history[\"loss\"]\n",
    "val_loss = history.history[\"val_loss\"]\n",
    "epochs = range(1, len(loss)+1)\n",
    "plt.plot(epochs, loss, 'y', label='Training loss')\n",
    "plt.plot(epochs, val_loss, 'r', label='Validation loss')\n",
    "plt.title(\"Training and validation loss\")\n",
    "plt.xlabel(\"Epochs\")\n",
    "plt.xlabel(\"Loss\")\n",
    "plt.legend()\n",
    "plt.show()"
   ]
  },
  {
   "cell_type": "code",
   "execution_count": 24,
   "id": "5404f637",
   "metadata": {
    "slideshow": {
     "slide_type": "fragment"
    }
   },
   "outputs": [
    {
     "data": {
      "image/png": "[encoded data removed]",
      "text/plain": [
       "<Figure size 432x288 with 1 Axes>"
      ]
     },
     "metadata": {
      "needs_background": "light"
     },
     "output_type": "display_data"
    }
   ],
   "source": [
    "loss = history.history[\"accuracy\"]\n",
    "val_loss = history.history[\"val_accuracy\"]\n",
    "epochs = range(1, len(loss)+1)\n",
    "plt.plot(epochs, loss, 'y', label='Training acc')\n",
    "plt.plot(epochs, val_loss, 'r', label='Validation accuracy')\n",
    "plt.title(\"Training and validation acc\")\n",
    "plt.xlabel(\"Epochs\")\n",
    "plt.xlabel(\"Accuracy\")\n",
    "plt.legend()\n",
    "plt.show()"
   ]
  },
  {
   "cell_type": "markdown",
   "id": "892e511c",
   "metadata": {
    "slideshow": {
     "slide_type": "subslide"
    }
   },
   "source": [
    "#### Evaluating the model"
   ]
  },
  {
   "cell_type": "code",
   "execution_count": 25,
   "id": "711cb4d3",
   "metadata": {
    "slideshow": {
     "slide_type": "fragment"
    }
   },
   "outputs": [
    {
     "name": "stdout",
     "output_type": "stream",
     "text": [
      "1/1 [==============================] - 0s 307ms/step - loss: 61.5527 - accuracy: 0.8459\n",
      "Accuracy is = 84.588623046875 %\n"
     ]
    }
   ],
   "source": [
    "_,acc = model.evaluate(X_val, y_val)\n",
    "print(\"Accuracy is =\", (acc*100), \"%\")"
   ]
  },
  {
   "cell_type": "markdown",
   "id": "fc9ca0ba",
   "metadata": {
    "slideshow": {
     "slide_type": "fragment"
    }
   },
   "source": [
    "#### Prediction"
   ]
  },
  {
   "cell_type": "code",
   "execution_count": 26,
   "id": "64c944e6",
   "metadata": {
    "slideshow": {
     "slide_type": "fragment"
    }
   },
   "outputs": [],
   "source": [
    "\n",
    "\n",
    "# use the best epoch\n",
    "model.load_weights('model.h5')\n",
    "\n",
    "prediction = model.predict(X_test)\n",
    "\n",
    "prediction_thresh = (prediction >= .5).astype(np.uint8)\n",
    "#len(prediction)"
   ]
  },
  {
   "cell_type": "code",
   "execution_count": 27,
   "id": "88fc2ef9",
   "metadata": {
    "slideshow": {
     "slide_type": "subslide"
    }
   },
   "outputs": [
    {
     "data": {
      "text/plain": [
       "<matplotlib.image.AxesImage at 0x7fbff81943a0>"
      ]
     },
     "execution_count": 27,
     "metadata": {},
     "output_type": "execute_result"
    },
    {
     "data": {
      "image/png": "[encoded data removed]",
      "text/plain": [
       "<Figure size 864x576 with 2 Axes>"
      ]
     },
     "metadata": {
      "needs_background": "light"
     },
     "output_type": "display_data"
    }
   ],
   "source": [
    "test_img_number = random.randint(0, len(X_test)-1)\n",
    "test_img = X_test[test_img_number]\n",
    "plt.figure(figsize=(12,8))\n",
    "pred_img = prediction_thresh[test_img_number, :, :, 0]\n",
    "plt.subplot(221)\n",
    "plt.title('Testing image')\n",
    "plt.imshow(test_img, cmap='gray')\n",
    "plt.subplot(222)\n",
    "plt.title('Prediction on test image')\n",
    "plt.imshow(pred_img, cmap='gray')"
   ]
  },
  {
   "cell_type": "markdown",
   "id": "f790e47c",
   "metadata": {
    "slideshow": {
     "slide_type": "slide"
    }
   },
   "source": [
    "### Conclusion"
   ]
  },
  {
   "cell_type": "markdown",
   "id": "6e7254fb",
   "metadata": {
    "slideshow": {
     "slide_type": "fragment"
    }
   },
   "source": [
    "This task was about training a neural network on 30 pictures of satellite houses with the corresponding label roofs of 25 of those. After training the model we were supposed to perform prediction on the five remaining satellite pictures. Based on the above analysis the following conclusion can drawn:\n",
    "\n",
    "- Although we obtain a more than 80% accuracy, the validation loss is not stable, actually tends to be higher, which shows an overfitting. This overfitting could be due to the fact that the data set is small for the U-net model as it is. Therefore, despite the earlystopping criterion the model is too large for the given data set. Perhaps one can think of either creating it's own architecture or remove some layers without affecting (or much) the model's performance.\n",
    "- Another aspect that would be great to investigate is do to the same analysis using the Intersection-over-Union (IoU) metric to understand how well the model performs.\n",
    "\n",
    "- The fact that the given labels aren't really gray images (as they include pixel values between 0 and 255) could be as well be reason why the predicted images does not show up clearly. In fact the two classes (0:black and 255:white) are not clearly defined in the labels. After encoding the labels to 0 and 1, the label pictures appear blur, which could make it difficult for the model to train (therefore predict) properly."
   ]
  },
  {
   "cell_type": "code",
   "execution_count": null,
   "id": "3ebd6ef5",
   "metadata": {},
   "outputs": [],
   "source": []
  }
 ],
 "metadata": {
  "celltoolbar": "Slideshow",
  "kernelspec": {
   "display_name": "Python 3 (ipykernel)",
   "language": "python",
   "name": "python3"
  },
  "language_info": {
   "codemirror_mode": {
    "name": "ipython",
    "version": 3
   },
   "file_extension": ".py",
   "mimetype": "text/x-python",
   "name": "python",
   "nbconvert_exporter": "python",
   "pygments_lexer": "ipython3",
   "version": "3.8.12"
  },
  "toc": {
   "base_numbering": 1,
   "nav_menu": {},
   "number_sections": true,
   "sideBar": true,
   "skip_h1_title": false,
   "title_cell": "Table of Contents",
   "title_sidebar": "Contents",
   "toc_cell": false,
   "toc_position": {},
   "toc_section_display": true,
   "toc_window_display": false
  }
 },
 "nbformat": 4,
 "nbformat_minor": 5
}
